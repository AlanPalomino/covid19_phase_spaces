{
 "cells": [
  {
   "cell_type": "code",
   "execution_count": 2,
   "metadata": {
    "execution": {
     "iopub.execute_input": "2020-06-30T15:41:30.403117Z",
     "iopub.status.busy": "2020-06-30T15:41:30.403117Z",
     "iopub.status.idle": "2020-06-30T15:41:30.980734Z",
     "shell.execute_reply": "2020-06-30T15:41:30.979752Z",
     "shell.execute_reply.started": "2020-06-30T15:41:30.403117Z"
    }
   },
   "outputs": [
    {
     "output_type": "execute_result",
     "data": {
      "text/plain": "{'divide': 'warn', 'over': 'warn', 'under': 'ignore', 'invalid': 'warn'}"
     },
     "metadata": {},
     "execution_count": 2
    }
   ],
   "source": [
    "from datetime import datetime\n",
    "from os.path import basename, exists\n",
    "from datetime import datetime, timedelta\n",
    "import pandas as pd\n",
    "import numpy as np\n",
    "import requests\n",
    "import os\n",
    "import json\n",
    "from datetime import datetime\n",
    "np.seterr(divide='ignore', invalid='ignore')\n",
    "# os.chdir(os.path.dirname(os.path.abspath(__file__)))"
   ]
  },
  {
   "cell_type": "code",
   "execution_count": 15,
   "metadata": {
    "execution": {
     "iopub.execute_input": "2020-06-30T15:41:30.981735Z",
     "iopub.status.busy": "2020-06-30T15:41:30.980734Z",
     "iopub.status.idle": "2020-06-30T15:41:33.980761Z",
     "shell.execute_reply": "2020-06-30T15:41:33.980761Z",
     "shell.execute_reply.started": "2020-06-30T15:41:30.981735Z"
    },
    "tags": []
   },
   "outputs": [
    {
     "output_type": "stream",
     "name": "stdout",
     "text": "Database  Exists\n"
    }
   ],
   "source": [
    "day_mean = 10\n",
    "today = datetime.now()\n",
    "yesterday = datetime.now() - timedelta(1)\n",
    "URL = \"https://www.ecdc.europa.eu/sites/default/files/documents/COVID-19-geographic-disbtribution-worldwide-{0:%Y}-{0:%m}-{0:%d}.xlsx\".format(today)\n",
    "FILE = \"Data/\"+basename(URL)\n",
    "\n",
    "print('Database ', end='')\n",
    "if not exists(FILE):\n",
    "    with open(FILE, 'wb') as f:\n",
    "        f.write(requests.get(URL, allow_redirects=False).content)\n",
    "        print(' Downloaded')\n",
    "else:\n",
    "    print(' Exists')\n",
    "\n",
    "WW_DATA = pd.read_excel(FILE)\n",
    "WW_DATA['dateRep'] = pd.to_datetime(WW_DATA['dateRep'], format='%d/%m/%Y')\n",
    "WW_DATA = WW_DATA.drop(WW_DATA[WW_DATA['countriesAndTerritories']=='China'].index)\n",
    "\n",
    "# DATA CORRECTION ON SPAIN 25 OF MAY\n",
    "# WW_DATA.loc[(WW_DATA.dateRep == datetime(year=2020, month=5, day=25)) & (WW_DATA['countriesAndTerritories']=='Spain'), 'deaths'] = 100\n",
    "# WW_DATA.loc[(WW_DATA.dateRep == datetime(year=2020, month=5, day=25)) & (WW_DATA['countriesAndTerritories']=='Spain'), 'cases'] = 372"
   ]
  },
  {
   "cell_type": "code",
   "execution_count": 14,
   "metadata": {
    "execution": {
     "iopub.execute_input": "2020-06-30T15:41:33.982732Z",
     "iopub.status.busy": "2020-06-30T15:41:33.982732Z",
     "iopub.status.idle": "2020-06-30T15:41:33.996739Z",
     "shell.execute_reply": "2020-06-30T15:41:33.996739Z",
     "shell.execute_reply.started": "2020-06-30T15:41:33.982732Z"
    }
   },
   "outputs": [],
   "source": [
    "def smoother(array, window=5, pad=True):\n",
    "    \"\"\"\n",
    "    Regresa un vector de la misma longitud que el introducido, dependiendo\n",
    "    del valor de la ventana ajusta los extremos al promedio de los valores\n",
    "    que puede ocupar.\n",
    "    \n",
    "    ó, si pad = False\n",
    "    Regresa sólo el vector promediado con los (window-1) datos en los ext-\n",
    "    tremos acortados.\n",
    "    \n",
    "    VALOR MÍNIMO DE VENTANA ES 3\n",
    "    \"\"\"\n",
    "    serie = pd.Series(array)\n",
    "    data = list(serie.rolling(window=window).mean())\n",
    "    numb = sum(np.isnan(data)*1)\n",
    "    if not pad:\n",
    "        return data[numb:]\n",
    "    lower, upper = int(np.ceil(numb/2)), int(np.floor(numb/2))\n",
    "    ini = [np.mean(array[:i+upper]) for i in range(lower)]\n",
    "    end = [np.mean(array[(len(array)-(lower+i)):]) for i in range(upper)]\n",
    "    return np.array(ini+data[numb:]+end)\n",
    "\n",
    "def data2log(data, day_mean, ret_smth=False, pad=True):\n",
    "    \"\"\"\n",
    "    Aplica logaritmo a una serie de datos, transforma valores inválidos a 0\n",
    "    los datos de entrada deben ser positivos\n",
    "    \"\"\"\n",
    "    ntc = smoother(data, day_mean, pad=pad)\n",
    "    dt = np.divide(ntc[1:], ntc[:-1])\n",
    "    dt = np.where(np.logical_or(np.isnan(dt), np.isinf(dt)), 0.0, dt)\n",
    "    if ret_smth:\n",
    "        return ntc[:-1], np.where(dt != 0, np.log(dt), 0)\n",
    "    else:\n",
    "        return np.where(dt != 0, np.log(dt), 0)\n",
    "\n",
    "def trim_first_zero(vector1, vector2=None, buffer=0):\n",
    "    \"\"\"\n",
    "    Quita la cadena de 0's al inicio de los datos.\n",
    "    Si se ingresa un segundo vector, regresa ambos vectores del mismo\n",
    "    tamaño, permitiendo ajustar los datos de los dos ectores.\n",
    "    \"\"\"\n",
    "    for idx, val in enumerate(vector1):\n",
    "        if val > 0:\n",
    "            if vector2 is not None:\n",
    "                return vector1[(idx-buffer):], vector2[(idx-buffer):]\n",
    "            else:\n",
    "                return vector1[(idx-buffer):]"
   ]
  },
  {
   "cell_type": "code",
   "execution_count": 4,
   "metadata": {},
   "outputs": [],
   "source": [
    "def country_selector(DF, COUNTRIES):\n",
    "    container = dict()\n",
    "    print(f'\\nSelecting bundle of countries: \\n')\n",
    "    for country in COUNTRIES:\n",
    "        country_data = WW_DATA[WW_DATA.countriesAndTerritories == country].sort_values(by='dateRep',\n",
    "                                                                            ascending=True,\n",
    "                                                                             ignore_index=True)\n",
    "    new_data = country_data[:-1][[\"cases\", \"deaths\"]]\n",
    "\n",
    "    new_data[\"vel_cases\"] = data2log(country_data.cases, 10)\n",
    "    new_data[\"smooth_cases\"] = smoother(new_data.cases, 10)\n",
    "\n",
    "    new_data[\"vel_deaths\"] = data2log(country_data.deaths, 10)\n",
    "    new_data[\"smooth_deaths\"] = smoother(new_data.deaths, 10)\n",
    "\n",
    "    try:\n",
    "        container[country] = new_data.to_dict(orient=\"registers\")\n",
    "    except (NameError, AttributeError) as r:\n",
    "        print(country, len(new_data), r)\n",
    "    with open(\"./covid_data_top.js\", \"w+\") as f:\n",
    "        f.write(\"export var covid_data_top = \")\n",
    "        json.dump(container, f)\n",
    "        f.write(\";\")\n",
    "    print(\"Top Countries js file Ready!\")\n",
    "    return new_data      "
   ]
  },
  {
   "cell_type": "code",
   "execution_count": 46,
   "metadata": {
    "tags": []
   },
   "outputs": [
    {
     "output_type": "stream",
     "name": "stdout",
     "text": "\nSelecting bundle of countries: \n\nTop Countries js file Ready!\n"
    }
   ],
   "source": [
    "COUNTRIES = [\n",
    "    'United_States_of_America',\n",
    "    'Belgium',\n",
    "    'Spain',\n",
    "    'Italy',\n",
    "    'Germany',\n",
    "]\n",
    "PAISES = [\n",
    "    'Estados Unidos',\n",
    "    'Belgica',\n",
    "    'España',\n",
    "    'Italia',\n",
    "    'Alemania'\n",
    "]\n",
    "new_data = country_selector(WW_DATA, COUNTRIES)"
   ]
  },
  {
   "cell_type": "code",
   "execution_count": 11,
   "metadata": {},
   "outputs": [
    {
     "output_type": "execute_result",
     "data": {
      "text/plain": "     dateRep  day  month  year  cases  deaths   countriesAndTerritories geoId  \\\n0 2019-12-31   31     12  2019      0       0  United_States_of_America    US   \n1 2020-01-01    1      1  2020      0       0  United_States_of_America    US   \n2 2020-01-02    2      1  2020      0       0  United_States_of_America    US   \n3 2020-01-03    3      1  2020      0       0  United_States_of_America    US   \n4 2020-01-04    4      1  2020      0       0  United_States_of_America    US   \n\n  countryterritoryCode  popData2019 continentExp  \n0                  USA  329064917.0      America  \n1                  USA  329064917.0      America  \n2                  USA  329064917.0      America  \n3                  USA  329064917.0      America  \n4                  USA  329064917.0      America  ",
      "text/html": "<div>\n<style scoped>\n    .dataframe tbody tr th:only-of-type {\n        vertical-align: middle;\n    }\n\n    .dataframe tbody tr th {\n        vertical-align: top;\n    }\n\n    .dataframe thead th {\n        text-align: right;\n    }\n</style>\n<table border=\"1\" class=\"dataframe\">\n  <thead>\n    <tr style=\"text-align: right;\">\n      <th></th>\n      <th>dateRep</th>\n      <th>day</th>\n      <th>month</th>\n      <th>year</th>\n      <th>cases</th>\n      <th>deaths</th>\n      <th>countriesAndTerritories</th>\n      <th>geoId</th>\n      <th>countryterritoryCode</th>\n      <th>popData2019</th>\n      <th>continentExp</th>\n    </tr>\n  </thead>\n  <tbody>\n    <tr>\n      <th>0</th>\n      <td>2019-12-31</td>\n      <td>31</td>\n      <td>12</td>\n      <td>2019</td>\n      <td>0</td>\n      <td>0</td>\n      <td>United_States_of_America</td>\n      <td>US</td>\n      <td>USA</td>\n      <td>329064917.0</td>\n      <td>America</td>\n    </tr>\n    <tr>\n      <th>1</th>\n      <td>2020-01-01</td>\n      <td>1</td>\n      <td>1</td>\n      <td>2020</td>\n      <td>0</td>\n      <td>0</td>\n      <td>United_States_of_America</td>\n      <td>US</td>\n      <td>USA</td>\n      <td>329064917.0</td>\n      <td>America</td>\n    </tr>\n    <tr>\n      <th>2</th>\n      <td>2020-01-02</td>\n      <td>2</td>\n      <td>1</td>\n      <td>2020</td>\n      <td>0</td>\n      <td>0</td>\n      <td>United_States_of_America</td>\n      <td>US</td>\n      <td>USA</td>\n      <td>329064917.0</td>\n      <td>America</td>\n    </tr>\n    <tr>\n      <th>3</th>\n      <td>2020-01-03</td>\n      <td>3</td>\n      <td>1</td>\n      <td>2020</td>\n      <td>0</td>\n      <td>0</td>\n      <td>United_States_of_America</td>\n      <td>US</td>\n      <td>USA</td>\n      <td>329064917.0</td>\n      <td>America</td>\n    </tr>\n    <tr>\n      <th>4</th>\n      <td>2020-01-04</td>\n      <td>4</td>\n      <td>1</td>\n      <td>2020</td>\n      <td>0</td>\n      <td>0</td>\n      <td>United_States_of_America</td>\n      <td>US</td>\n      <td>USA</td>\n      <td>329064917.0</td>\n      <td>America</td>\n    </tr>\n  </tbody>\n</table>\n</div>"
     },
     "metadata": {},
     "execution_count": 11
    }
   ],
   "source": [
    "country_data = WW_DATA[WW_DATA.countriesAndTerritories == 'United_States_of_America'].sort_values(\n",
    "        by='dateRep',\n",
    "        ascending=True,\n",
    "        ignore_index=True)\n",
    "\n",
    "country_data.head()\n"
   ]
  },
  {
   "cell_type": "code",
   "execution_count": 60,
   "metadata": {},
   "outputs": [
    {
     "output_type": "execute_result",
     "data": {
      "text/plain": "     Tasa_Incid  r(t)_casos  Tasa_defun  r(t)_deaths\n0      0.000030    0.000000    0.000000     0.000000\n1      0.000030    0.000000    0.000000     0.000000\n2      0.000036    0.138629    0.000000     0.000000\n3      0.000043    0.321888    0.000000     0.000000\n4      0.000067    0.321888    0.000000     0.000000\n..          ...         ...         ...          ...\n166   14.026339    0.030013    2.117880    -0.054631\n167   14.447095    0.016266    1.996749    -0.065354\n168   14.677442    0.006320    1.857723    -0.066853\n169   14.921122   -0.024667    1.863397    -0.070551\n170   15.097422   -0.024139    1.756246     0.027478\n\n[171 rows x 4 columns]",
      "text/html": "<div>\n<style scoped>\n    .dataframe tbody tr th:only-of-type {\n        vertical-align: middle;\n    }\n\n    .dataframe tbody tr th {\n        vertical-align: top;\n    }\n\n    .dataframe thead th {\n        text-align: right;\n    }\n</style>\n<table border=\"1\" class=\"dataframe\">\n  <thead>\n    <tr style=\"text-align: right;\">\n      <th></th>\n      <th>Tasa_Incid</th>\n      <th>r(t)_casos</th>\n      <th>Tasa_defun</th>\n      <th>r(t)_deaths</th>\n    </tr>\n  </thead>\n  <tbody>\n    <tr>\n      <th>0</th>\n      <td>0.000030</td>\n      <td>0.000000</td>\n      <td>0.000000</td>\n      <td>0.000000</td>\n    </tr>\n    <tr>\n      <th>1</th>\n      <td>0.000030</td>\n      <td>0.000000</td>\n      <td>0.000000</td>\n      <td>0.000000</td>\n    </tr>\n    <tr>\n      <th>2</th>\n      <td>0.000036</td>\n      <td>0.138629</td>\n      <td>0.000000</td>\n      <td>0.000000</td>\n    </tr>\n    <tr>\n      <th>3</th>\n      <td>0.000043</td>\n      <td>0.321888</td>\n      <td>0.000000</td>\n      <td>0.000000</td>\n    </tr>\n    <tr>\n      <th>4</th>\n      <td>0.000067</td>\n      <td>0.321888</td>\n      <td>0.000000</td>\n      <td>0.000000</td>\n    </tr>\n    <tr>\n      <th>...</th>\n      <td>...</td>\n      <td>...</td>\n      <td>...</td>\n      <td>...</td>\n    </tr>\n    <tr>\n      <th>166</th>\n      <td>14.026339</td>\n      <td>0.030013</td>\n      <td>2.117880</td>\n      <td>-0.054631</td>\n    </tr>\n    <tr>\n      <th>167</th>\n      <td>14.447095</td>\n      <td>0.016266</td>\n      <td>1.996749</td>\n      <td>-0.065354</td>\n    </tr>\n    <tr>\n      <th>168</th>\n      <td>14.677442</td>\n      <td>0.006320</td>\n      <td>1.857723</td>\n      <td>-0.066853</td>\n    </tr>\n    <tr>\n      <th>169</th>\n      <td>14.921122</td>\n      <td>-0.024667</td>\n      <td>1.863397</td>\n      <td>-0.070551</td>\n    </tr>\n    <tr>\n      <th>170</th>\n      <td>15.097422</td>\n      <td>-0.024139</td>\n      <td>1.756246</td>\n      <td>0.027478</td>\n    </tr>\n  </tbody>\n</table>\n<p>171 rows × 4 columns</p>\n</div>"
     },
     "metadata": {},
     "execution_count": 60
    }
   ],
   "source": [
    "letalidad = (np.sum(country_data.deaths)/np.sum(country_data.cases))*100\n",
    "population = country_data.popData2019[0]\n",
    "\n",
    "new_data = pd.DataFrame()\n",
    "\n",
    "#  Nuevos Casos\n",
    "ntc, rtc = data2log(country_data.cases, day_mean, ret_smth=True)\n",
    "xc, yc = trim_first_zero(ntc, rtc)\n",
    "\n",
    "xc = smoother((xc/population)*10**5)\n",
    "yc = smoother(yc)\n",
    "\n",
    "new_data[\"Tasa_Incid\"] = xc\n",
    "new_data[\"r(t)_casos\"] = yc\n",
    "\n",
    "# Defunciones\n",
    "ntd, rtd = data2log(country_data.deaths, day_mean, ret_smth=True)\n",
    "dif=abs(len(ntd)-len(xc))\n",
    "\n",
    "xd = ntd[dif: len(ntd)]\n",
    "yd = rtd[dif:len(rtd)]\n",
    "\n",
    "xd=smoother((xd/population)*10**6)\n",
    "yd=smoother(yd)\n",
    "\n",
    "new_data[\"Tasa_defun\"] = xd\n",
    "new_data[\"r(t)_deaths\"] = yd\n",
    "\n",
    "new_data\n"
   ]
  },
  {
   "cell_type": "code",
   "execution_count": 10,
   "metadata": {
    "execution": {
     "iopub.execute_input": "2020-06-30T15:41:51.856020Z",
     "iopub.status.busy": "2020-06-30T15:41:51.856020Z",
     "iopub.status.idle": "2020-06-30T15:41:52.167727Z",
     "shell.execute_reply": "2020-06-30T15:41:52.166726Z",
     "shell.execute_reply.started": "2020-06-30T15:41:51.856020Z"
    }
   },
   "outputs": [],
   "source": [
    "# All Countries \n",
    "container = dict()\n",
    "for country in WW_DATA[\"countriesAndTerritories\"].unique():\n",
    "    \n",
    "    country_data = WW_DATA[WW_DATA.countriesAndTerritories == country].sort_values(\n",
    "        by='dateRep',\n",
    "        ascending=True,\n",
    "        ignore_index=True)\n",
    "\n",
    "    letalidad = (np.sum(country_data.deaths)/np.sum(country_data.cases))*100\n",
    "    population = country_data.popData2019[0]\n",
    "\n",
    "    new_data = pd.DataFrame()\n",
    "\n",
    "    #  Nuevos Casos\n",
    "    ntc, rtc = data2log(country_data.cases, day_mean, ret_smth=True)\n",
    "    xc, yc = trim_first_zero(ntc, rtc)\n",
    "\n",
    "    xc = smoother((xc/population)*10**5)\n",
    "    yc = smoother(yc)\n",
    "\n",
    "    new_data[\"Tasa_Incid\"] = xc\n",
    "    new_data[\"r(t)_casos\"] = yc\n",
    "\n",
    "    # Defunciones\n",
    "    ntd, rtd = data2log(country_data.deaths, day_mean, ret_smth=True)\n",
    "    dif=abs(len(ntd)-len(xc))\n",
    "\n",
    "    xd = ntd[dif: len(ntd)]\n",
    "    yd = rtd[dif:len(rtd)]\n",
    "\n",
    "    xd=smoother((xd/population)*10**6)\n",
    "    yd=smoother(yd)\n",
    "\n",
    "    new_data[\"Tasa_defun\"] = xd\n",
    "    new_data[\"r(t)_deaths\"] = yd\n",
    "\n",
    "    try:\n",
    "        container[country] = new_data.to_dict(orient=\"registers\")\n",
    "    except (NameError, AttributeError) as r:\n",
    "        print(country, len(new_data), r)\n",
    "with open(\"./covid_data_ww.js\", \"w+\") as f:\n",
    "    f.write(\"export var covid_data_ww = \")\n",
    "    json.dump(container, f)\n",
    "    f.write(\";\")"
   ]
  },
  {
   "cell_type": "code",
   "execution_count": 23,
   "metadata": {
    "execution": {
     "iopub.execute_input": "2020-06-29T14:43:51.936979Z",
     "iopub.status.busy": "2020-06-29T14:43:51.936979Z",
     "iopub.status.idle": "2020-06-29T14:43:51.960083Z",
     "shell.execute_reply": "2020-06-29T14:43:51.960083Z",
     "shell.execute_reply.started": "2020-06-29T14:43:51.936979Z"
    },
    "tags": []
   },
   "outputs": [
    {
     "output_type": "execute_result",
     "data": {
      "text/plain": "                 dateRep  cases  deaths  vel_cases  smooth_cases  vel_deaths  \\\n0    2019-12-31T00:00:00      0       0   0.000000      0.000000    0.000000   \n1    2020-01-01T00:00:00      0       0   0.000000      0.000000    0.000000   \n2    2020-01-02T00:00:00      0       0   0.000000      0.000000    0.000000   \n3    2020-01-03T00:00:00      0       0   0.000000      0.000000    0.000000   \n4    2020-01-04T00:00:00      0       0   0.000000      0.000000    0.000000   \n..                   ...    ...     ...        ...           ...         ...   \n173  2020-06-26T00:00:00    197       9   0.096321    206.700000   -0.064539   \n174  2020-06-27T00:00:00    240       7   0.250533    264.600000   -0.097980   \n175  2020-06-28T00:00:00    283       7  -0.055912    249.166667    0.052518   \n176  2020-06-29T00:00:00    305       5  -0.055503    235.857143    0.016475   \n177  2020-06-30T00:00:00    298       8  -0.051768    225.000000    0.028988   \n\n     smooth_deaths  \n0         0.000000  \n1         0.000000  \n2         0.000000  \n3         0.000000  \n4         0.000000  \n..             ...  \n173       8.000000  \n174       7.200000  \n175       7.333333  \n176       7.571429  \n177       7.500000  \n\n[178 rows x 7 columns]",
      "text/html": "<div>\n<style scoped>\n    .dataframe tbody tr th:only-of-type {\n        vertical-align: middle;\n    }\n\n    .dataframe tbody tr th {\n        vertical-align: top;\n    }\n\n    .dataframe thead th {\n        text-align: right;\n    }\n</style>\n<table border=\"1\" class=\"dataframe\">\n  <thead>\n    <tr style=\"text-align: right;\">\n      <th></th>\n      <th>dateRep</th>\n      <th>cases</th>\n      <th>deaths</th>\n      <th>vel_cases</th>\n      <th>smooth_cases</th>\n      <th>vel_deaths</th>\n      <th>smooth_deaths</th>\n    </tr>\n  </thead>\n  <tbody>\n    <tr>\n      <th>0</th>\n      <td>2019-12-31T00:00:00</td>\n      <td>0</td>\n      <td>0</td>\n      <td>0.000000</td>\n      <td>0.000000</td>\n      <td>0.000000</td>\n      <td>0.000000</td>\n    </tr>\n    <tr>\n      <th>1</th>\n      <td>2020-01-01T00:00:00</td>\n      <td>0</td>\n      <td>0</td>\n      <td>0.000000</td>\n      <td>0.000000</td>\n      <td>0.000000</td>\n      <td>0.000000</td>\n    </tr>\n    <tr>\n      <th>2</th>\n      <td>2020-01-02T00:00:00</td>\n      <td>0</td>\n      <td>0</td>\n      <td>0.000000</td>\n      <td>0.000000</td>\n      <td>0.000000</td>\n      <td>0.000000</td>\n    </tr>\n    <tr>\n      <th>3</th>\n      <td>2020-01-03T00:00:00</td>\n      <td>0</td>\n      <td>0</td>\n      <td>0.000000</td>\n      <td>0.000000</td>\n      <td>0.000000</td>\n      <td>0.000000</td>\n    </tr>\n    <tr>\n      <th>4</th>\n      <td>2020-01-04T00:00:00</td>\n      <td>0</td>\n      <td>0</td>\n      <td>0.000000</td>\n      <td>0.000000</td>\n      <td>0.000000</td>\n      <td>0.000000</td>\n    </tr>\n    <tr>\n      <th>...</th>\n      <td>...</td>\n      <td>...</td>\n      <td>...</td>\n      <td>...</td>\n      <td>...</td>\n      <td>...</td>\n      <td>...</td>\n    </tr>\n    <tr>\n      <th>173</th>\n      <td>2020-06-26T00:00:00</td>\n      <td>197</td>\n      <td>9</td>\n      <td>0.096321</td>\n      <td>206.700000</td>\n      <td>-0.064539</td>\n      <td>8.000000</td>\n    </tr>\n    <tr>\n      <th>174</th>\n      <td>2020-06-27T00:00:00</td>\n      <td>240</td>\n      <td>7</td>\n      <td>0.250533</td>\n      <td>264.600000</td>\n      <td>-0.097980</td>\n      <td>7.200000</td>\n    </tr>\n    <tr>\n      <th>175</th>\n      <td>2020-06-28T00:00:00</td>\n      <td>283</td>\n      <td>7</td>\n      <td>-0.055912</td>\n      <td>249.166667</td>\n      <td>0.052518</td>\n      <td>7.333333</td>\n    </tr>\n    <tr>\n      <th>176</th>\n      <td>2020-06-29T00:00:00</td>\n      <td>305</td>\n      <td>5</td>\n      <td>-0.055503</td>\n      <td>235.857143</td>\n      <td>0.016475</td>\n      <td>7.571429</td>\n    </tr>\n    <tr>\n      <th>177</th>\n      <td>2020-06-30T00:00:00</td>\n      <td>298</td>\n      <td>8</td>\n      <td>-0.051768</td>\n      <td>225.000000</td>\n      <td>0.028988</td>\n      <td>7.500000</td>\n    </tr>\n  </tbody>\n</table>\n<p>178 rows × 7 columns</p>\n</div>"
     },
     "metadata": {},
     "execution_count": 23
    }
   ],
   "source": [
    "new_data\n"
   ]
  },
  {
   "cell_type": "code",
   "execution_count": 28,
   "metadata": {
    "execution": {
     "iopub.execute_input": "2020-06-29T15:28:28.401916Z",
     "iopub.status.busy": "2020-06-29T15:28:28.401916Z",
     "iopub.status.idle": "2020-06-29T15:28:28.415927Z",
     "shell.execute_reply": "2020-06-29T15:28:28.414927Z",
     "shell.execute_reply.started": "2020-06-29T15:28:28.401916Z"
    }
   },
   "outputs": [
    {
     "data": {
      "text/plain": [
       "{'fechas': [15, 16, 17, 18, 19, 20, 21, 22, 23, 24],\n",
       " 'Uno': [0, 1, 2, 3, 4, 5, 6, 7, 8, 9],\n",
       " 'Dos': [10, 11, 12, 13, 14, 15, 16, 17, 18, 19],\n",
       " 'Tres': [20, 21, 22, 23, 24, 25, 26, 27, 28, 29]}"
      ]
     },
     "execution_count": 28,
     "metadata": {},
     "output_type": "execute_result"
    }
   ],
   "source": [
    "fechas = list(range(15, 25))\n",
    "a = list(range(0, 10))\n",
    "b = list(range(10, 20))\n",
    "c = list(range(20, 30))\n",
    "l = [a, b, c]\n",
    "nombres = [\"Uno\", \"Dos\", \"Tres\"]\n",
    "dic = {\"fechas\": fechas}\n",
    "dic.update({nombres[s]: l[s] for s in range(3)})\n",
    "dic"
   ]
  },
  {
   "cell_type": "code",
   "execution_count": 29,
   "metadata": {
    "execution": {
     "iopub.execute_input": "2020-06-29T15:28:31.495654Z",
     "iopub.status.busy": "2020-06-29T15:28:31.495654Z",
     "iopub.status.idle": "2020-06-29T15:28:31.520657Z",
     "shell.execute_reply": "2020-06-29T15:28:31.519654Z",
     "shell.execute_reply.started": "2020-06-29T15:28:31.495654Z"
    }
   },
   "outputs": [
    {
     "data": {
      "text/html": [
       "<div>\n",
       "<style scoped>\n",
       "    .dataframe tbody tr th:only-of-type {\n",
       "        vertical-align: middle;\n",
       "    }\n",
       "\n",
       "    .dataframe tbody tr th {\n",
       "        vertical-align: top;\n",
       "    }\n",
       "\n",
       "    .dataframe thead th {\n",
       "        text-align: right;\n",
       "    }\n",
       "</style>\n",
       "<table border=\"1\" class=\"dataframe\">\n",
       "  <thead>\n",
       "    <tr style=\"text-align: right;\">\n",
       "      <th></th>\n",
       "      <th>fechas</th>\n",
       "      <th>Uno</th>\n",
       "      <th>Dos</th>\n",
       "      <th>Tres</th>\n",
       "    </tr>\n",
       "  </thead>\n",
       "  <tbody>\n",
       "    <tr>\n",
       "      <th>0</th>\n",
       "      <td>15</td>\n",
       "      <td>0</td>\n",
       "      <td>10</td>\n",
       "      <td>20</td>\n",
       "    </tr>\n",
       "    <tr>\n",
       "      <th>1</th>\n",
       "      <td>16</td>\n",
       "      <td>1</td>\n",
       "      <td>11</td>\n",
       "      <td>21</td>\n",
       "    </tr>\n",
       "    <tr>\n",
       "      <th>2</th>\n",
       "      <td>17</td>\n",
       "      <td>2</td>\n",
       "      <td>12</td>\n",
       "      <td>22</td>\n",
       "    </tr>\n",
       "    <tr>\n",
       "      <th>3</th>\n",
       "      <td>18</td>\n",
       "      <td>3</td>\n",
       "      <td>13</td>\n",
       "      <td>23</td>\n",
       "    </tr>\n",
       "    <tr>\n",
       "      <th>4</th>\n",
       "      <td>19</td>\n",
       "      <td>4</td>\n",
       "      <td>14</td>\n",
       "      <td>24</td>\n",
       "    </tr>\n",
       "    <tr>\n",
       "      <th>5</th>\n",
       "      <td>20</td>\n",
       "      <td>5</td>\n",
       "      <td>15</td>\n",
       "      <td>25</td>\n",
       "    </tr>\n",
       "    <tr>\n",
       "      <th>6</th>\n",
       "      <td>21</td>\n",
       "      <td>6</td>\n",
       "      <td>16</td>\n",
       "      <td>26</td>\n",
       "    </tr>\n",
       "    <tr>\n",
       "      <th>7</th>\n",
       "      <td>22</td>\n",
       "      <td>7</td>\n",
       "      <td>17</td>\n",
       "      <td>27</td>\n",
       "    </tr>\n",
       "    <tr>\n",
       "      <th>8</th>\n",
       "      <td>23</td>\n",
       "      <td>8</td>\n",
       "      <td>18</td>\n",
       "      <td>28</td>\n",
       "    </tr>\n",
       "    <tr>\n",
       "      <th>9</th>\n",
       "      <td>24</td>\n",
       "      <td>9</td>\n",
       "      <td>19</td>\n",
       "      <td>29</td>\n",
       "    </tr>\n",
       "  </tbody>\n",
       "</table>\n",
       "</div>"
      ],
      "text/plain": [
       "   fechas  Uno  Dos  Tres\n",
       "0      15    0   10    20\n",
       "1      16    1   11    21\n",
       "2      17    2   12    22\n",
       "3      18    3   13    23\n",
       "4      19    4   14    24\n",
       "5      20    5   15    25\n",
       "6      21    6   16    26\n",
       "7      22    7   17    27\n",
       "8      23    8   18    28\n",
       "9      24    9   19    29"
      ]
     },
     "execution_count": 29,
     "metadata": {},
     "output_type": "execute_result"
    }
   ],
   "source": [
    "pd.DataFrame(dic)"
   ]
  }
 ],
 "metadata": {
  "kernelspec": {
   "display_name": "Python 3",
   "language": "python",
   "name": "python3"
  },
  "language_info": {
   "codemirror_mode": {
    "name": "ipython",
    "version": 3
   },
   "file_extension": ".py",
   "mimetype": "text/x-python",
   "name": "python",
   "nbconvert_exporter": "python",
   "pygments_lexer": "ipython3",
   "version": "3.8.3-final"
  }
 },
 "nbformat": 4,
 "nbformat_minor": 4
}